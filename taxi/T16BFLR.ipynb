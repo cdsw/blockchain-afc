{
 "cells": [
  {
   "cell_type": "code",
   "execution_count": 1,
   "source": [
    "from T14BFLCore import *\n",
    "import _ctypes"
   ],
   "outputs": [
    {
     "output_type": "stream",
     "name": "stderr",
     "text": [
      "2021-09-21 01:21:36.793710: W tensorflow/stream_executor/platform/default/dso_loader.cc:64] Could not load dynamic library 'libcudart.so.11.0'; dlerror: libcudart.so.11.0: cannot open shared object file: No such file or directory\n",
      "2021-09-21 01:21:36.793735: I tensorflow/stream_executor/cuda/cudart_stub.cc:29] Ignore above cudart dlerror if you do not have a GPU set up on your machine.\n"
     ]
    },
    {
     "output_type": "stream",
     "name": "stdout",
     "text": [
      "/home/cl/Documents/n-bafc/blockchain-afc/taxi\n"
     ]
    }
   ],
   "metadata": {}
  },
  {
   "cell_type": "code",
   "execution_count": 2,
   "source": [
    "dat = 'trips_simpler.csv'\n",
    "company = [5,4]#[2,3,4,5]\n",
    "location = [4]#[mk for mk in range(9)]\n",
    "\n",
    "f = open(\"./models/chaincred\", 'r')\n",
    "bc_id = int(f.read())\n",
    "f.close()\n",
    "print(bc_id)"
   ],
   "outputs": [
    {
     "output_type": "stream",
     "name": "stdout",
     "text": [
      "139868657438880\n"
     ]
    }
   ],
   "metadata": {}
  },
  {
   "cell_type": "code",
   "execution_count": 3,
   "source": [
    "blockchain = _ctypes.PyObj_FromPtr(bc_id)\n",
    "print(blockchain)"
   ],
   "outputs": [
    {
     "output_type": "error",
     "ename": "NameError",
     "evalue": "name 'blockchain' is not defined",
     "traceback": [
      "\u001b[0;31m---------------------------------------------------------------------------\u001b[0m",
      "\u001b[0;31mNameError\u001b[0m                                 Traceback (most recent call last)",
      "\u001b[0;32m/tmp/ipykernel_4257/1441332387.py\u001b[0m in \u001b[0;36m<module>\u001b[0;34m\u001b[0m\n\u001b[1;32m      3\u001b[0m         \u001b[0mblockchain\u001b[0m \u001b[0;34m=\u001b[0m \u001b[0mobj\u001b[0m\u001b[0;34m\u001b[0m\u001b[0;34m\u001b[0m\u001b[0m\n\u001b[1;32m      4\u001b[0m \u001b[0;31m#blockchain = _ctypes.PyObj_FromPtr(bc_id)\u001b[0m\u001b[0;34m\u001b[0m\u001b[0;34m\u001b[0m\u001b[0;34m\u001b[0m\u001b[0m\n\u001b[0;32m----> 5\u001b[0;31m \u001b[0mprint\u001b[0m\u001b[0;34m(\u001b[0m\u001b[0mblockchain\u001b[0m\u001b[0;34m)\u001b[0m\u001b[0;34m\u001b[0m\u001b[0;34m\u001b[0m\u001b[0m\n\u001b[0m",
      "\u001b[0;31mNameError\u001b[0m: name 'blockchain' is not defined"
     ]
    }
   ],
   "metadata": {}
  },
  {
   "cell_type": "code",
   "execution_count": null,
   "source": [
    "print(\"1 - DISTRIBUTION =================================\")\n",
    "import pickle\n",
    "try:\n",
    "    locdump = \"./models/clis\" + str(company) + str(location) + \".p\"\n",
    "    clients = pickle.load(open(locdump, \"rb\"))\n",
    "    print(\"Auto-load from cache\")\n",
    "except:\n",
    "    print(\"Generating dist\")\n",
    "    db = Distributor(dat, company, location, settings)\n",
    "    db.divBoth(settings)\n",
    "    clients = db.extractClients()\n",
    "    import pickle\n",
    "    pickle.dump(clients, open(locdump, \"wb\"))"
   ],
   "outputs": [
    {
     "output_type": "stream",
     "name": "stdout",
     "text": [
      "1 - DISTRIBUTION =================================\n",
      "Auto-load from cache\n"
     ]
    }
   ],
   "metadata": {}
  },
  {
   "cell_type": "code",
   "execution_count": null,
   "source": [
    "print(\"2 - AUTHORIZATION =================================\")\n",
    "print(\"Using blockchain #\" + blockchain.bc_id)\n",
    "for c in clients:\n",
    "    c.model = CNNLSTM(settings['frame_in'],settings['frame_out'], epochs=c.epoch)\n",
    "    blockchain.authorizeClient(c.id)\n",
    "    c.assignBlockchain(blockchain)"
   ],
   "outputs": [],
   "metadata": {}
  },
  {
   "cell_type": "code",
   "execution_count": null,
   "source": [
    "print(\"3 - TRAINING =================================\")\n",
    "# Training period\n",
    "for c in clients:\n",
    "    c.model.setData(c.inp_train,c.out_train)\n",
    "    c.train()\n",
    "    # All client send the model to BC\n",
    "    c.submitModelAsTransaction()"
   ],
   "outputs": [],
   "metadata": {}
  },
  {
   "cell_type": "code",
   "execution_count": null,
   "source": [
    "print(\"4 - MINING =================================\")\n",
    "print(blockchain.current_transactions)\n",
    "print(blockchain.bc_id)\n",
    "# Mining period\n",
    "for c in clients:\n",
    "    print(c.blockchain.current_transactions)\n",
    "    #if type(c) == Miner:\n",
    "        #c.mine()\n",
    "        #print(c.blockchain.current_transactions)\n"
   ],
   "outputs": [],
   "metadata": {}
  }
 ],
 "metadata": {
  "orig_nbformat": 4,
  "language_info": {
   "name": "python",
   "version": "3.8.8",
   "mimetype": "text/x-python",
   "codemirror_mode": {
    "name": "ipython",
    "version": 3
   },
   "pygments_lexer": "ipython3",
   "nbconvert_exporter": "python",
   "file_extension": ".py"
  },
  "kernelspec": {
   "name": "python3",
   "display_name": "Python 3.8.8 64-bit ('base': conda)"
  },
  "interpreter": {
   "hash": "1869290e7ffbda500f2058d1fc448c155d136953b2e2069a8572d844cde6d08c"
  }
 },
 "nbformat": 4,
 "nbformat_minor": 2
}