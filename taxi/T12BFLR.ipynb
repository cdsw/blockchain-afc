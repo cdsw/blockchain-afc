{
 "cells": [
  {
   "cell_type": "code",
   "execution_count": 1,
   "source": [
    "from T13BFLSimpCore import *"
   ],
   "outputs": [
    {
     "output_type": "stream",
     "name": "stdout",
     "text": [
      "/home/cl/Documents/n-bafc/blockchain-afc/taxi\n"
     ]
    }
   ],
   "metadata": {}
  },
  {
   "cell_type": "code",
   "execution_count": 2,
   "source": [
    "dat = 'trips_simpler.csv'\n",
    "company = [5,4,3]#[2,3,4,5]\n",
    "location = [4]#[mk for mk in range(9)]\n",
    "\n",
    "blockchain = Blockchain()"
   ],
   "outputs": [
    {
     "output_type": "stream",
     "name": "stdout",
     "text": [
      "list index out of range|Brand new blockchain, creating genesis block\n",
      "BLK: C:0x7fb13#  0 <-- PH=0    :PF=0    , RL={}   , #TRXS=0\n",
      "Blockchain created with ID: 0x7fb138037970 140399125690736\n"
     ]
    }
   ],
   "metadata": {}
  },
  {
   "cell_type": "code",
   "execution_count": 3,
   "source": [
    "print(\"1 - DISTRIBUTION =================================\")\n",
    "import pickle\n",
    "try:\n",
    "    locdump = \"./models/clis\" + str(company) + str(location) + \".p\"\n",
    "    clients = pickle.load(open(locdump, \"rb\"))\n",
    "    print(\"Auto-load from cache\")\n",
    "except:\n",
    "    print(\"Generating dist\")\n",
    "    db = Distributor(dat, company, location, settings)\n",
    "    db.divBoth(settings)\n",
    "    clients = db.extractClients()\n",
    "    import pickle\n",
    "    pickle.dump(clients, open(locdump, \"wb\"))"
   ],
   "outputs": [
    {
     "output_type": "stream",
     "name": "stdout",
     "text": [
      "1 - DISTRIBUTION =================================\n",
      "Generating dist\n",
      "Sum of all datalist: 1451888 | Sum of all tested: 309545\n",
      "Sum of all datalist: 643211 | Sum of all tested: 132788\n",
      "Sum of all datalist: 4527911 | Sum of all tested: 983132\n"
     ]
    }
   ],
   "metadata": {}
  },
  {
   "cell_type": "code",
   "execution_count": 4,
   "source": [
    "print(\"2 - AUTHORIZATION =================================\")\n",
    "print(\"Using blockchain #\" + blockchain.bc_id)\n",
    "for c in clients:\n",
    "    c.model = CNNLSTM(settings['frame_in'],settings['frame_out'], epochs=c.epoch)\n",
    "    blockchain.authorizeClient(c)\n",
    "    c.assignBlockchain(blockchain)\n",
    "    print(c)"
   ],
   "outputs": [
    {
     "output_type": "stream",
     "name": "stdout",
     "text": [
      "2 - AUTHORIZATION =================================\n",
      "Using blockchain #0x7fb138037970\n",
      "MIN:5/4--8718,   43917\n",
      "CLI:4/4-64336,   23207\n",
      "MIN:3/4-54806,  131480\n"
     ]
    }
   ],
   "metadata": {}
  },
  {
   "cell_type": "code",
   "execution_count": 5,
   "source": [
    "print(\"3 - TRAINING =================================\")\n",
    "# Training period\n",
    "\n",
    "for c in clients:\n",
    "    c.model.setData(c.inp_train,c.out_train)\n",
    "    c.train()\n",
    "    c.submitModelAsTransaction()"
   ],
   "outputs": [
    {
     "output_type": "stream",
     "name": "stdout",
     "text": [
      "3 - TRAINING =================================\n",
      "#5/4:1.65s; MIN:5/4 MOD-->CHIDX#  1\n",
      "#4/4:1.80s; CLI:4/4 MOD-->CHIDX#  1\n",
      "#3/4:2.11s; MIN:3/4 MOD-->CHIDX#  1\n"
     ]
    }
   ],
   "metadata": {}
  },
  {
   "cell_type": "code",
   "execution_count": 6,
   "source": [
    "print(\"4 - MINING =================================\")\n",
    "for c in clients:\n",
    "    if type(c) == Miner:\n",
    "        c.mine()\n",
    "\n",
    "print(\"5 - CONSENSUS + INCENTIVIZATION ============\")\n",
    "inc = blockchain.consensus()\n",
    "\n",
    "for c in clients:\n",
    "    print(c.id, c.balance)"
   ],
   "outputs": [
    {
     "output_type": "stream",
     "name": "stdout",
     "text": [
      "4 - MINING =================================\n",
      "Start mining: 5/4\n",
      "-8718 MINE APPROVED: POA\n",
      "PREV= CURR=-8718:8.297; 64336:5.68; 54806:8.229; \n",
      "-8718 MINE APPROVED AND ACCEPTED: POQ\n",
      "BLK: C:0x7fb13#  1 <-- PH=0    :PF=-8718, RL=QmR1J, #TRXS=3\n",
      "Start mining: 3/4\n",
      "54806 MINE APPROVED: POA\n",
      "PREV= CURR=-8718:9.434; 64336:6.279; 54806:9.506; \n",
      "54806 MINE APPROVED AND ACCEPTED: POQ\n",
      "BLK: C:0x7fb13#  1 <-- PH=0    :PF=54806, RL=QmR6d, #TRXS=3\n",
      "5 - CONSENSUS + INCENTIVIZATION ============\n",
      "{}\n",
      "{'-871807179978295729': 0, '5480651930250876810': 25.218097444513482}\n",
      "BLK: C:0x7fb13#  1 <-- PH=0    :PF=54806, RL=QmP6o, #TRXS=3 CONSENSUS\n",
      "-871807179978295729 0\n",
      "6433604349785740464 0\n",
      "5480651930250876810 25.218097444513482\n"
     ]
    }
   ],
   "metadata": {}
  }
 ],
 "metadata": {
  "orig_nbformat": 4,
  "language_info": {
   "name": "python",
   "version": "3.8.8",
   "mimetype": "text/x-python",
   "codemirror_mode": {
    "name": "ipython",
    "version": 3
   },
   "pygments_lexer": "ipython3",
   "nbconvert_exporter": "python",
   "file_extension": ".py"
  },
  "kernelspec": {
   "name": "python3",
   "display_name": "Python 3.8.8 64-bit ('base': conda)"
  },
  "interpreter": {
   "hash": "1869290e7ffbda500f2058d1fc448c155d136953b2e2069a8572d844cde6d08c"
  }
 },
 "nbformat": 4,
 "nbformat_minor": 2
}