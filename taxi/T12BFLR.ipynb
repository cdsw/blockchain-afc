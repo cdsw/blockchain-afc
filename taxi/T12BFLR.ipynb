{
 "cells": [
  {
   "cell_type": "code",
   "execution_count": 1,
   "source": [
    "from T13BFLSimpCore import *"
   ],
   "outputs": [
    {
     "output_type": "stream",
     "name": "stdout",
     "text": [
      "/home/cl/Documents/n-bafc/blockchain-afc/taxi\n"
     ]
    }
   ],
   "metadata": {}
  },
  {
   "cell_type": "code",
   "execution_count": 2,
   "source": [
    "dat = 'trips_simpler.csv'\n",
    "company = [5,4]#[2,3,4,5]\n",
    "location = [4]#[mk for mk in range(9)]\n",
    "\n",
    "blockchain = Blockchain()"
   ],
   "outputs": [
    {
     "output_type": "stream",
     "name": "stdout",
     "text": [
      "list index out of range|Brand new blockchain, creating genesis block\n",
      "BLK: C:0x7fd77#  0 <-- PH=0    :PF=0    , RL={}   , #TRXS=0\n",
      "Blockchain created with ID: 0x7fd77556c580 140563363317120\n"
     ]
    }
   ],
   "metadata": {}
  },
  {
   "cell_type": "code",
   "execution_count": 3,
   "source": [
    "print(\"1 - DISTRIBUTION =================================\")\n",
    "import pickle\n",
    "try:\n",
    "    locdump = \"./models/clis\" + str(company) + str(location) + \".p\"\n",
    "    clients = pickle.load(open(locdump, \"rb\"))\n",
    "    print(\"Auto-load from cache\")\n",
    "except:\n",
    "    print(\"Generating dist\")\n",
    "    db = Distributor(dat, company, location, settings)\n",
    "    db.divBoth(settings)\n",
    "    clients = db.extractClients()\n",
    "    import pickle\n",
    "    pickle.dump(clients, open(locdump, \"wb\"))"
   ],
   "outputs": [
    {
     "output_type": "stream",
     "name": "stdout",
     "text": [
      "1 - DISTRIBUTION =================================\n",
      "Auto-load from cache\n"
     ]
    }
   ],
   "metadata": {}
  },
  {
   "cell_type": "code",
   "execution_count": 4,
   "source": [
    "print(\"2 - AUTHORIZATION =================================\")\n",
    "print(\"Using blockchain #\" + blockchain.bc_id)\n",
    "for c in clients:\n",
    "    c.model = CNNLSTM(settings['frame_in'],settings['frame_out'], epochs=c.epoch)\n",
    "    blockchain.authorizeClient(c)\n",
    "    c.assignBlockchain(blockchain)\n",
    "    print(c)"
   ],
   "outputs": [
    {
     "output_type": "stream",
     "name": "stdout",
     "text": [
      "2 - AUTHORIZATION =================================\n",
      "Using blockchain #0x7fd77556c580\n",
      "CLI:5/0-18904,   12036\n",
      "MIN:5/4--3008,   43917\n",
      "CLI:4/0--6381,     582\n",
      "CLI:4/4--1543,   23207\n",
      "CLI:3/0-69564,   61603\n",
      "MIN:3/4--7216,  131480\n"
     ]
    }
   ],
   "metadata": {}
  },
  {
   "cell_type": "code",
   "execution_count": 5,
   "source": [
    "def train(ep=None):\n",
    "    print(\"\\n3 - TRAINING =================================\")\n",
    "    for c in clients:\n",
    "        c.model.setData(c.inp_train,c.out_train)\n",
    "        c.train(epoch=ep)\n",
    "        c.submitModelAsTransaction()\n",
    "\n",
    "def mine():\n",
    "    print(\"\\n4 - MINING =================================\")\n",
    "    for c in clients:\n",
    "        if type(c) == Miner:\n",
    "            c.mine()\n",
    "\n",
    "def consensus():\n",
    "    print(\"\\n5 - CONSENSUS + INCENTIVIZATION ============\")\n",
    "    blockchain.consensus()\n",
    "\n",
    "def aggregate():\n",
    "    print(\"\\n6 - AGGREGATION ============================\", end=' ')\n",
    "    for c in clients:\n",
    "        mods = []\n",
    "        for tx in c.blockchain.lastBlock.transactions:\n",
    "            if tx.type == \"MOD\":\n",
    "                mods.append(tx.load)\n",
    "        if len(mods) == 0:\n",
    "            print(\"No aggregation.\\n\")\n",
    "            return\n",
    "        nmod = c.aggregate(mods)\n",
    "        c.replaceWeights(nmod)\n",
    "    print(\"done.\\n\")\n",
    "\n",
    "def iterate():\n",
    "    train(37)\n",
    "    mine()\n",
    "    consensus()\n",
    "    aggregate()"
   ],
   "outputs": [],
   "metadata": {}
  },
  {
   "cell_type": "code",
   "execution_count": 6,
   "source": [
    "# FL iterations\n",
    "iters = 3\n",
    "for i in range(iters):\n",
    "    print(\"> ITERATION #\" + str(i+1))\n",
    "    iterate()"
   ],
   "outputs": [
    {
     "output_type": "stream",
     "name": "stdout",
     "text": [
      "> ITERATION #1\n",
      "\n",
      "3 - TRAINING =================================\n",
      "#5/0:9.89s; CLI:5/0 MOD-->CHIDX#  1\n",
      "#5/4:13.58s; MIN:5/4 MOD-->CHIDX#  1\n",
      "#4/0:12.50s; CLI:4/0 MOD-->CHIDX#  1\n",
      "#4/4:12.45s; CLI:4/4 MOD-->CHIDX#  1\n",
      "#3/0:12.86s; CLI:3/0 MOD-->CHIDX#  1\n",
      "#3/4:13.93s; MIN:3/4 MOD-->CHIDX#  1\n",
      "\n",
      "4 - MINING =================================\n",
      "Start mining: 5/4\n",
      "-3008 MINE APPROVED: POA\n",
      "Proposal:  18904:2.864; -3008:3.085; -6381:4.109; -1543:3.901; 69564:3.327; -7216:3.04; \n",
      "PREV =  | CURR = 18904:2.864; -3008:3.085; -6381:4.109; -1543:3.901; 69564:3.327; -7216:3.04; \n",
      "-3008 MINE APPROVED AND ACCEPTED: POQ\n",
      "BLK: C:0x7fd77#  1 <-- PH=0    :PF=-3008, RL=Qmaga, #TRXS=6\n",
      "Start mining: 3/4\n",
      "-7216 MINE APPROVED: POA\n",
      "Proposal:  18904:2.912; -3008:3.557; -6381:4.239; -1543:3.579; 69564:3.224; -7216:2.817; \n",
      "PREV =  | CURR = 18904:2.912; -3008:3.557; -6381:4.239; -1543:3.579; 69564:3.224; -7216:2.817; \n",
      "-7216 MINE APPROVED AND ACCEPTED: POQ\n",
      "BLK: C:0x7fd77#  1 <-- PH=0    :PF=-7216, RL=QmXnp, #TRXS=6\n",
      "\n",
      "5 - CONSENSUS + INCENTIVIZATION ============\n",
      "TRX: C0x7fd:0    -->-3008 | PAY   | ¤10.27 | Load: L1 Incentivization\n",
      "TRX: C0x7fd:0    -->-7216 | PAY   | ¤10.71 | Load: L1 Incentivization\n",
      "TRX: C0x7fd:-3008-->-1543 | PAY   | ¤1.17 | Load: L2 Incentivization\n",
      "TRX: C0x7fd:-3008-->69564 | PAY   | ¤1.00 | Load: L2 Incentivization\n",
      "TRX: C0x7fd:-3008-->-7216 | PAY   | ¤0.91 | Load: L2 Incentivization\n",
      "TRX: C0x7fd:-7216-->18904 | PAY   | ¤0.87 | Load: L2 Incentivization\n",
      "TRX: C0x7fd:-7216-->-3008 | PAY   | ¤1.07 | Load: L2 Incentivization\n",
      "TRX: C0x7fd:-7216-->-6381 | PAY   | ¤1.27 | Load: L2 Incentivization\n",
      "BLK: C:0x7fd77#  1 <-- PH=0    :PF=-3008, RL=QmZTa, #TRXS=14  -- CONSENSUS\n",
      "\n",
      "6 - AGGREGATION ============================ done.\n",
      "\n",
      "> ITERATION #2\n",
      "\n",
      "3 - TRAINING =================================\n",
      "#5/0:12.47s; CLI:5/0 MOD-->CHIDX#  2\n",
      "#5/4:13.27s; MIN:5/4 MOD-->CHIDX#  2\n",
      "#4/0:13.18s; CLI:4/0 MOD-->CHIDX#  2\n",
      "#4/4:13.05s; CLI:4/4 MOD-->CHIDX#  2\n",
      "#3/0:12.51s; CLI:3/0 MOD-->CHIDX#  2\n",
      "#3/4:11.88s; MIN:3/4 MOD-->CHIDX#  2\n",
      "\n",
      "4 - MINING =================================\n",
      "Start mining: 5/4\n",
      "-3008 MINE APPROVED: POA\n",
      "Proposal:  18904:3.079; -3008:3.341; -6381:3.219; -1543:3.771; 69564:4.231; -7216:2.952; \n",
      "PREV = 18904:2.912; -3008:3.557; -6381:4.239; -1543:3.579; 69564:3.224; -7216:2.817;  | CURR = 18904:3.079; -1543:3.771; 69564:4.231; -7216:2.952; \n",
      "-3008 MINE APPROVED AND ACCEPTED: POQ\n",
      "BLK: C:0x7fd77#  2 <-- PH=0    :PF=-3008, RL=Qmc6p, #TRXS=4\n",
      "Start mining: 3/4\n",
      "-7216 MINE APPROVED: POA\n",
      "Proposal:  18904:3.175; -3008:3.599; -6381:3.062; -1543:3.491; 69564:4.522; -7216:2.651; \n",
      "PREV = 18904:2.912; -3008:3.557; -6381:4.239; -1543:3.579; 69564:3.224; -7216:2.817;  | CURR = 18904:3.175; -3008:3.599; 69564:4.522; \n",
      "-7216 MINE APPROVED AND ACCEPTED: POQ\n",
      "BLK: C:0x7fd77#  2 <-- PH=0    :PF=-7216, RL=QmTW7, #TRXS=3\n",
      "\n",
      "5 - CONSENSUS + INCENTIVIZATION ============\n",
      "TRX: C0x7fd:0    -->-3008 | PAY   | ¤0.33 | Load: L1 Incentivization\n",
      "TRX: C0x7fd:0    -->-7216 | PAY   | ¤1.60 | Load: L1 Incentivization\n",
      "TRX: C0x7fd:-3008-->-1543 | PAY   | ¤0.06 | Load: L2 Incentivization\n",
      "TRX: C0x7fd:-3008-->-7216 | PAY   | ¤0.04 | Load: L2 Incentivization\n",
      "TRX: C0x7fd:-7216-->18904 | PAY   | ¤0.08 | Load: L2 Incentivization\n",
      "TRX: C0x7fd:-7216-->-3008 | PAY   | ¤0.01 | Load: L2 Incentivization\n",
      "TRX: C0x7fd:-7216-->69564 | PAY   | ¤0.39 | Load: L2 Incentivization\n",
      "BLK: C:0x7fd77#  2 <-- PH=0    :PF=-3008, RL=QmX1y, #TRXS=12  -- CONSENSUS\n",
      "\n",
      "6 - AGGREGATION ============================ done.\n",
      "\n",
      "> ITERATION #3\n",
      "\n",
      "3 - TRAINING =================================\n",
      "#5/0:12.98s; CLI:5/0 MOD-->CHIDX#  3\n",
      "#5/4:12.47s; MIN:5/4 MOD-->CHIDX#  3\n",
      "#4/0:12.49s; CLI:4/0 MOD-->CHIDX#  3\n",
      "#4/4:12.40s; CLI:4/4 MOD-->CHIDX#  3\n",
      "#3/0:13.32s; CLI:3/0 MOD-->CHIDX#  3\n",
      "#3/4:12.85s; MIN:3/4 MOD-->CHIDX#  3\n",
      "\n",
      "4 - MINING =================================\n",
      "Start mining: 5/4\n",
      "-3008 MINE APPROVED: POA\n",
      "Proposal:  18904:2.836; -3008:2.222; -6381:3.17; -1543:3.599; 69564:3.011; -7216:3.243; \n",
      "PREV = 18904:3.175; -3008:3.599; -6381:3.062; -1543:3.491; 69564:4.522; -7216:2.651;  | CURR = -6381:3.17; -1543:3.599; -7216:3.243; \n",
      "-3008 MINE APPROVED AND ACCEPTED: POQ\n",
      "BLK: C:0x7fd77#  3 <-- PH=0    :PF=-3008, RL=QmaPq, #TRXS=3\n",
      "Start mining: 3/4\n",
      "-7216 MINE APPROVED: POA\n",
      "Proposal:  18904:2.813; -3008:2.466; -6381:2.931; -1543:3.243; 69564:2.952; -7216:3.135; \n",
      "PREV = 18904:3.175; -3008:3.599; -6381:3.062; -1543:3.491; 69564:4.522; -7216:2.651;  | CURR = -7216:3.135; \n",
      "-7216 MINE APPROVED AND ACCEPTED: POQ\n",
      "BLK: C:0x7fd77#  3 <-- PH=0    :PF=-7216, RL=QmS2m, #TRXS=1\n",
      "\n",
      "5 - CONSENSUS + INCENTIVIZATION ============\n",
      "TRX: C0x7fd:0    -->-3008 | PAY   | ¤0.81 | Load: L1 Incentivization\n",
      "TRX: C0x7fd:-3008-->-6381 | PAY   | ¤0.03 | Load: L2 Incentivization\n",
      "TRX: C0x7fd:-3008-->-1543 | PAY   | ¤0.03 | Load: L2 Incentivization\n",
      "TRX: C0x7fd:-3008-->-7216 | PAY   | ¤0.18 | Load: L2 Incentivization\n",
      "BLK: C:0x7fd77#  3 <-- PH=0    :PF=-3008, RL=QmdEk, #TRXS=7  -- CONSENSUS\n",
      "\n",
      "6 - AGGREGATION ============================ done.\n",
      "\n"
     ]
    }
   ],
   "metadata": {}
  },
  {
   "cell_type": "code",
   "execution_count": 8,
   "source": [
    "def predict():\n",
    "    txs = []\n",
    "    for t in blockchain.lastBlock.transactions:\n",
    "        if t.type == 'MOD':\n",
    "            txs.append(t.load)\n",
    "    for c in blockchain.cli_pointers:\n",
    "        model = CNNLSTM(36,2)\n",
    "        weights = c.aggregate(txs)\n",
    "        dev = c.predict(model, weights)\n",
    "        print(c.alias, dev)\n",
    "\n",
    "predict()"
   ],
   "outputs": [
    {
     "output_type": "stream",
     "name": "stdout",
     "text": [
      "['QmVAoy7R6VTJBoLZGi1i5F16hUawzCu7QoJaWZjC8wUe12|QmShuVZ18SitU4zrvNvjMWee4SmZZhAaM8r9XtDyi1DRhM', 'QmbzRHVY41jHNuZKbM34fZPidScn74Kr22PBzJqzooq5qw|QmPsR6Ts5UjmBjiCcSqodHjQ73NshDyV18YE3CvDFhoKC5', 'QmbwvpUanJtt8b2aVtgZ7m5c42jhRUDSvuvk7V3p2oniQi|QmaxuvEpM19wRiGna8E68ZKMV3sTdiMkQ4Xz3MrUx5BH6h']\n"
     ]
    },
    {
     "output_type": "error",
     "ename": "TypeError",
     "evalue": "predict() takes from 1 to 2 positional arguments but 3 were given",
     "traceback": [
      "\u001b[0;31m---------------------------------------------------------------------------\u001b[0m",
      "\u001b[0;31mTypeError\u001b[0m                                 Traceback (most recent call last)",
      "\u001b[0;32m/tmp/ipykernel_469843/1577853682.py\u001b[0m in \u001b[0;36m<module>\u001b[0;34m\u001b[0m\n\u001b[1;32m     11\u001b[0m         \u001b[0mprint\u001b[0m\u001b[0;34m(\u001b[0m\u001b[0mc\u001b[0m\u001b[0;34m.\u001b[0m\u001b[0malias\u001b[0m\u001b[0;34m,\u001b[0m \u001b[0mdev\u001b[0m\u001b[0;34m)\u001b[0m\u001b[0;34m\u001b[0m\u001b[0;34m\u001b[0m\u001b[0m\n\u001b[1;32m     12\u001b[0m \u001b[0;34m\u001b[0m\u001b[0m\n\u001b[0;32m---> 13\u001b[0;31m \u001b[0mpredict\u001b[0m\u001b[0;34m(\u001b[0m\u001b[0;34m)\u001b[0m\u001b[0;34m\u001b[0m\u001b[0;34m\u001b[0m\u001b[0m\n\u001b[0m",
      "\u001b[0;32m/tmp/ipykernel_469843/1577853682.py\u001b[0m in \u001b[0;36mpredict\u001b[0;34m()\u001b[0m\n\u001b[1;32m      8\u001b[0m         \u001b[0mmodel\u001b[0m \u001b[0;34m=\u001b[0m \u001b[0mCNNLSTM\u001b[0m\u001b[0;34m(\u001b[0m\u001b[0;36m36\u001b[0m\u001b[0;34m,\u001b[0m\u001b[0;36m2\u001b[0m\u001b[0;34m)\u001b[0m\u001b[0;34m\u001b[0m\u001b[0;34m\u001b[0m\u001b[0m\n\u001b[1;32m      9\u001b[0m         \u001b[0mweights\u001b[0m \u001b[0;34m=\u001b[0m \u001b[0mc\u001b[0m\u001b[0;34m.\u001b[0m\u001b[0maggregate\u001b[0m\u001b[0;34m(\u001b[0m\u001b[0mtxs\u001b[0m\u001b[0;34m)\u001b[0m\u001b[0;34m\u001b[0m\u001b[0;34m\u001b[0m\u001b[0m\n\u001b[0;32m---> 10\u001b[0;31m         \u001b[0mdev\u001b[0m \u001b[0;34m=\u001b[0m \u001b[0mc\u001b[0m\u001b[0;34m.\u001b[0m\u001b[0mpredict\u001b[0m\u001b[0;34m(\u001b[0m\u001b[0mmodel\u001b[0m\u001b[0;34m,\u001b[0m \u001b[0mweights\u001b[0m\u001b[0;34m)\u001b[0m\u001b[0;34m\u001b[0m\u001b[0;34m\u001b[0m\u001b[0m\n\u001b[0m\u001b[1;32m     11\u001b[0m         \u001b[0mprint\u001b[0m\u001b[0;34m(\u001b[0m\u001b[0mc\u001b[0m\u001b[0;34m.\u001b[0m\u001b[0malias\u001b[0m\u001b[0;34m,\u001b[0m \u001b[0mdev\u001b[0m\u001b[0;34m)\u001b[0m\u001b[0;34m\u001b[0m\u001b[0;34m\u001b[0m\u001b[0m\n\u001b[1;32m     12\u001b[0m \u001b[0;34m\u001b[0m\u001b[0m\n",
      "\u001b[0;31mTypeError\u001b[0m: predict() takes from 1 to 2 positional arguments but 3 were given"
     ]
    }
   ],
   "metadata": {}
  },
  {
   "cell_type": "code",
   "execution_count": null,
   "source": [],
   "outputs": [],
   "metadata": {}
  }
 ],
 "metadata": {
  "orig_nbformat": 4,
  "language_info": {
   "name": "python",
   "version": "3.8.8",
   "mimetype": "text/x-python",
   "codemirror_mode": {
    "name": "ipython",
    "version": 3
   },
   "pygments_lexer": "ipython3",
   "nbconvert_exporter": "python",
   "file_extension": ".py"
  },
  "kernelspec": {
   "name": "python3",
   "display_name": "Python 3.8.8 64-bit ('base': conda)"
  },
  "interpreter": {
   "hash": "1869290e7ffbda500f2058d1fc448c155d136953b2e2069a8572d844cde6d08c"
  }
 },
 "nbformat": 4,
 "nbformat_minor": 2
}