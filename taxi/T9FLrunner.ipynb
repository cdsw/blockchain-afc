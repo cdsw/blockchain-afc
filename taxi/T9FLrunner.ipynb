{
 "cells": [
  {
   "cell_type": "code",
   "execution_count": 8,
   "source": [
    "from T6FLFunctions import *"
   ],
   "outputs": [],
   "metadata": {}
  },
  {
   "cell_type": "code",
   "execution_count": 9,
   "source": [
    "# Builder\n",
    "dat = 'trips_simpler.csv'\n",
    "bin_ = '40T'\n",
    "company = [2,3,4,5]\n",
    "location = [mk for mk in range(9)]\n",
    "frame_in = binToWindows(bin_)\n",
    "frame_out = 2\n",
    "ratio = 0.8"
   ],
   "outputs": [],
   "metadata": {}
  },
  {
   "cell_type": "code",
   "execution_count": 10,
   "source": [
    "# Distribute data to clients\n",
    "db = Distributor(dat, company, location)\n",
    "db.divByCompany()\n",
    "clients = db.extractClients()"
   ],
   "outputs": [
    {
     "output_type": "stream",
     "name": "stdout",
     "text": [
      "[2] [0, 1, 2, 3, 4, 5, 6, 7, 8] | Sum of all datalist: 596314 | Sum of all tested: 118692\n",
      "[3] [0, 1, 2, 3, 4, 5, 6, 7, 8] | Sum of all datalist: 12732738 | Sum of all tested: 2738413\n",
      "[4] [0, 1, 2, 3, 4, 5, 6, 7, 8] | Sum of all datalist: 851726 | Sum of all tested: 177922\n",
      "[5] [0, 1, 2, 3, 4, 5, 6, 7, 8] | Sum of all datalist: 4201065 | Sum of all tested: 893440\n"
     ]
    }
   ],
   "metadata": {}
  },
  {
   "cell_type": "code",
   "execution_count": 11,
   "source": [
    "# Server simulation\n",
    "epochs = 100\n",
    "iterations = 1\n",
    "serv = Server(clients, frame_in, frame_out, 'CNNLSTM', epochs_=int(epochs/iterations))\n",
    "serv.iterate(iterations, mode='amt')"
   ],
   "outputs": [
    {
     "output_type": "stream",
     "name": "stdout",
     "text": [
      "\n",
      "Iteration 1 of 1 | Cli# 2: 25.01 sec; Cli# 3: 25.47 sec; Cli# 4: 25.66 sec; Cli# 5: 24.41 sec;  | Glob: 0.47s, Train: 100.56s, Aggr: 0.19s.\n"
     ]
    },
    {
     "output_type": "execute_result",
     "data": {
      "text/plain": [
       "<T6FLFunctions.Server at 0x7f5a8f8be610>"
      ]
     },
     "metadata": {},
     "execution_count": 11
    }
   ],
   "metadata": {}
  },
  {
   "cell_type": "code",
   "execution_count": 12,
   "source": [],
   "outputs": [],
   "metadata": {}
  },
  {
   "cell_type": "code",
   "execution_count": 14,
   "source": [
    "for c in serv.clients:\n",
    "    c.predict(frame_in,frame_out, verbose_=True)"
   ],
   "outputs": [
    {
     "output_type": "stream",
     "name": "stdout",
     "text": [
      "RMSE  = 35\n",
      "Total demand  = [118692]\n",
      "Average demand  = 567\n",
      "Deviation  = [6.32]%\n",
      "RMSE  = 879\n",
      "Total demand  = [2738413]\n",
      "Average demand  = 13102\n",
      "Deviation  = [6.7]%\n",
      "RMSE  = 77\n",
      "Total demand  = [177922]\n",
      "Average demand  = 851\n",
      "Deviation  = [9.12]%\n",
      "RMSE  = 358\n",
      "Total demand  = [893440]\n",
      "Average demand  = 4274\n",
      "Deviation  = [8.39]%\n"
     ]
    }
   ],
   "metadata": {}
  },
  {
   "cell_type": "code",
   "execution_count": null,
   "source": [],
   "outputs": [],
   "metadata": {}
  }
 ],
 "metadata": {
  "orig_nbformat": 4,
  "language_info": {
   "name": "python",
   "version": "3.8.10",
   "mimetype": "text/x-python",
   "codemirror_mode": {
    "name": "ipython",
    "version": 3
   },
   "pygments_lexer": "ipython3",
   "nbconvert_exporter": "python",
   "file_extension": ".py"
  },
  "kernelspec": {
   "name": "python3",
   "display_name": "Python 3.8.10 64-bit"
  },
  "interpreter": {
   "hash": "916dbcbb3f70747c44a77c7bcd40155683ae19c65e1c03b4aa3499c5328201f1"
  }
 },
 "nbformat": 4,
 "nbformat_minor": 2
}