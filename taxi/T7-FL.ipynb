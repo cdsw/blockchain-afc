{
 "cells": [
  {
   "cell_type": "code",
   "execution_count": null,
   "source": [
    "import tensorflow as tf\n",
    "import pandas as pd\n",
    "# Separate data into per-company data frames\n",
    "#d2 = d[d['hvfhs_license_num'] == 2]\n",
    "#d4 = d[d['hvfhs_license_num'] == 4]\n",
    "#d5 = d[d['hvfhs_license_num'] == 5]\n",
    "\n"
   ],
   "outputs": [],
   "metadata": {}
  }
 ],
 "metadata": {
  "orig_nbformat": 4,
  "language_info": {
   "name": "python"
  }
 },
 "nbformat": 4,
 "nbformat_minor": 2
}