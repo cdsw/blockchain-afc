{
 "cells": [
  {
   "cell_type": "code",
   "execution_count": 379,
   "source": [
    "import pandas as pd\n",
    "# Convert the data to (0) per-two-hour (1) per-hour, (2) per-30-minute, (3) per-15-minute bin\n",
    "# ONLY on pickup\n",
    "d = pd.read_csv('trips_simpler.csv')\n",
    "d['pickup_datetime'] = pd.to_datetime(d['pickup_datetime'])\n",
    "d = d.set_index(['pickup_datetime'])\n",
    "d = d['n']\n",
    "# 2-hour bin\n",
    "d2h = d.resample('2H').count()\n",
    "\n",
    "# 1-hour bin\n",
    "d1h = d.resample('1H').count()\n",
    "\n",
    "# 30-min bin\n",
    "d30m = d.resample('30T').count()\n",
    "\n",
    "# 15-min bin\n",
    "d15m = d.resample('15T').count()"
   ],
   "outputs": [],
   "metadata": {}
  },
  {
   "cell_type": "code",
   "execution_count": 380,
   "source": [
    "d2h.head(12)"
   ],
   "outputs": [
    {
     "output_type": "execute_result",
     "data": {
      "text/plain": [
       "pickup_datetime\n",
       "2019-07-01 00:00:00    2674\n",
       "2019-07-01 02:00:00    1522\n",
       "2019-07-01 04:00:00    1524\n",
       "2019-07-01 06:00:00    2861\n",
       "2019-07-01 08:00:00    3840\n",
       "2019-07-01 10:00:00    2911\n",
       "2019-07-01 12:00:00    2898\n",
       "2019-07-01 14:00:00    2947\n",
       "2019-07-01 16:00:00    3044\n",
       "2019-07-01 18:00:00    3073\n",
       "2019-07-01 20:00:00    3206\n",
       "2019-07-01 22:00:00    3049\n",
       "Freq: 2H, Name: n, dtype: int64"
      ]
     },
     "metadata": {},
     "execution_count": 380
    }
   ],
   "metadata": {}
  },
  {
   "cell_type": "code",
   "execution_count": 381,
   "source": [
    "def unnegate(num):\n",
    "    if num < 0:\n",
    "        num = 0\n",
    "    return num\n",
    "\n",
    "# reshape from [samples, timesteps] into [samples, subsequences, timesteps, features]\n",
    "def reshapeData(dat):\n",
    "    dat = array(dat)\n",
    "    dat = dat.reshape((dat.shape[0], 1, dat.shape[1], 1))\n",
    "    print(dat.shape)\n",
    "    return dat\n",
    "\n",
    "def training_builder(dset, window, step, train_ratio): # e.g. window = 5, step = 2: [1 2 3 4 5] -> 6 7\n",
    "    d = []\n",
    "    idx = -window + 1\n",
    "    for i in range(len(dset)):\n",
    "        dj = []\n",
    "        dk = []\n",
    "        for j in range(window):\n",
    "            dj.append(dset[unnegate(idx + j)])\n",
    "        for k in range(step):\n",
    "            try:\n",
    "                dk.append(dset[unnegate(idx + window + k)])\n",
    "            except:\n",
    "                break\n",
    "        d.append([dj,dk])\n",
    "        idx += 1\n",
    "        result = pd.DataFrame(d[window//2:-step], columns=['inp','outp'])\n",
    "        inp = result['inp'].tolist()\n",
    "        outp = result['outp'].tolist()\n",
    "    inp_train = reshapeData(inp[:int(len(inp)*train_ratio)])\n",
    "    out_train = outp[:int(len(outp)*train_ratio)]\n",
    "    inp_test = reshapeData(inp[int(len(inp)*train_ratio):])\n",
    "    out_test = outp[int(len(outp)*train_ratio):]\n",
    "    return inp_train, out_train, inp_test, out_test\n",
    "    \n",
    "l2h = d2h.tolist(), 12\n",
    "l1h = d1h.tolist(), 24\n",
    "l30m = d30m.tolist(), 48\n",
    "l15m = d15m.tolist(), 96"
   ],
   "outputs": [],
   "metadata": {}
  },
  {
   "cell_type": "code",
   "execution_count": 396,
   "source": [
    "data_in_foucus = l15m\n",
    "window = data_in_foucus[1]\n",
    "timeframe = 2\n",
    "train_ratio = 0.8\n",
    "inp_train, out_train, inp_test, out_test = training_builder(data_in_foucus[0], window, timeframe, train_ratio)"
   ],
   "outputs": [
    {
     "output_type": "stream",
     "name": "stdout",
     "text": [
      "(2264, 1, 96, 1)\n",
      "(566, 1, 96, 1)\n"
     ]
    }
   ],
   "metadata": {}
  },
  {
   "cell_type": "code",
   "execution_count": 397,
   "source": [
    "# ML part\n",
    "from numpy import array\n",
    "from tensorflow.keras.models import Sequential\n",
    "from tensorflow.keras.layers import LSTM\n",
    "from tensorflow.keras.layers import Dense\n",
    "from tensorflow.keras.layers import Flatten\n",
    "from tensorflow.keras.layers import TimeDistributed\n",
    "from tensorflow.keras.layers import Conv1D\n",
    "from tensorflow.keras.layers import MaxPooling1D"
   ],
   "outputs": [],
   "metadata": {}
  },
  {
   "cell_type": "code",
   "execution_count": 398,
   "source": [
    "model = Sequential()\n",
    "model.add(TimeDistributed(Conv1D(filters=128, kernel_size=5, activation='relu'), input_shape=(None, window, 1)))\n",
    "model.add(TimeDistributed(MaxPooling1D(pool_size=4)))\n",
    "model.add(TimeDistributed(Flatten()))\n",
    "model.add(LSTM(200, activation='relu'))\n",
    "model.add(Dense(2))\n",
    "model.compile(optimizer='adam', loss='mse')\n",
    "\n",
    "model.summary()"
   ],
   "outputs": [
    {
     "output_type": "stream",
     "name": "stdout",
     "text": [
      "Model: \"sequential_46\"\n",
      "_________________________________________________________________\n",
      "Layer (type)                 Output Shape              Param #   \n",
      "=================================================================\n",
      "time_distributed_130 (TimeDi (None, None, 92, 128)     768       \n",
      "_________________________________________________________________\n",
      "time_distributed_131 (TimeDi (None, None, 23, 128)     0         \n",
      "_________________________________________________________________\n",
      "time_distributed_132 (TimeDi (None, None, 2944)        0         \n",
      "_________________________________________________________________\n",
      "lstm_41 (LSTM)               (None, 200)               2516000   \n",
      "_________________________________________________________________\n",
      "dense_41 (Dense)             (None, 2)                 402       \n",
      "=================================================================\n",
      "Total params: 2,517,170\n",
      "Trainable params: 2,517,170\n",
      "Non-trainable params: 0\n",
      "_________________________________________________________________\n"
     ]
    }
   ],
   "metadata": {}
  },
  {
   "cell_type": "code",
   "execution_count": 399,
   "source": [
    "# Train model\n",
    "model.fit(inp_train, array(out_train), epochs=750, verbose=0)"
   ],
   "outputs": [
    {
     "output_type": "execute_result",
     "data": {
      "text/plain": [
       "<tensorflow.python.keras.callbacks.History at 0x7f9e096604c0>"
      ]
     },
     "metadata": {},
     "execution_count": 399
    }
   ],
   "metadata": {}
  },
  {
   "cell_type": "code",
   "execution_count": 400,
   "source": [
    "from sklearn.metrics import mean_squared_error\n",
    "\n",
    "def getPred(inp):\n",
    "    pred = []\n",
    "    for to_test_idx in range(len(inp)):\n",
    "        x_input = inp[to_test_idx]\n",
    "        x_input = x_input.reshape((1, 1, window, 1))\n",
    "        yhat = model.predict(x_input, verbose=0)\n",
    "        pred.append(yhat.tolist()[0])\n",
    "    return pred"
   ],
   "outputs": [],
   "metadata": {}
  },
  {
   "cell_type": "code",
   "execution_count": 401,
   "source": [
    "def predict(inp, outp, label=\"\"):\n",
    "    rmse = (mean_squared_error(getPred(inp), outp) / timeframe) ** 0.5\n",
    "    sum_dat = 0\n",
    "    len_dat = 0\n",
    "    for i in inp:\n",
    "        for j in i:\n",
    "            sum_dat += j[0]\n",
    "            len_dat += 1\n",
    "    average_bin_value = sum_dat/len_dat\n",
    "    in_percent = rmse/average_bin_value*10000//1/100\n",
    "\n",
    "    print(\"RMSE \" + label + \" = \" + str(int(rmse)))\n",
    "    print(\"Average demand \" + label + \" = \" + str(int(average_bin_value)))\n",
    "    print(\"Deviation \" + label + \" = \" + str(in_percent) + \"%\")\n",
    "\n",
    "predict(inp_train, out_train, \"train\")\n",
    "predict(inp_test, out_test, \"test\")"
   ],
   "outputs": [
    {
     "output_type": "stream",
     "name": "stdout",
     "text": [
      "RMSE train = 4\n",
      "Average demand train = 396\n",
      "Deviation train = [1.03]%\n",
      "RMSE test = 33\n",
      "Average demand test = 419\n",
      "Deviation test = [7.95]%\n"
     ]
    }
   ],
   "metadata": {}
  },
  {
   "cell_type": "code",
   "execution_count": 402,
   "source": [
    "import matplotlib.pyplot as plt\n"
   ],
   "outputs": [],
   "metadata": {}
  }
 ],
 "metadata": {
  "orig_nbformat": 4,
  "language_info": {
   "name": "python",
   "version": "3.8.10",
   "mimetype": "text/x-python",
   "codemirror_mode": {
    "name": "ipython",
    "version": 3
   },
   "pygments_lexer": "ipython3",
   "nbconvert_exporter": "python",
   "file_extension": ".py"
  },
  "kernelspec": {
   "name": "python3",
   "display_name": "Python 3.8.10 64-bit"
  },
  "interpreter": {
   "hash": "916dbcbb3f70747c44a77c7bcd40155683ae19c65e1c03b4aa3499c5328201f1"
  }
 },
 "nbformat": 4,
 "nbformat_minor": 2
}