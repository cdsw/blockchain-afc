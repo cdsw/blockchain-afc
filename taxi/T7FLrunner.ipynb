{
 "cells": [
  {
   "cell_type": "code",
   "execution_count": 1,
   "source": [
    "from T6FLFunctions import *"
   ],
   "outputs": [
    {
     "output_type": "stream",
     "name": "stderr",
     "text": [
      "2021-09-01 19:21:34.098834: W tensorflow/stream_executor/platform/default/dso_loader.cc:64] Could not load dynamic library 'libcudart.so.11.0'; dlerror: libcudart.so.11.0: cannot open shared object file: No such file or directory\n",
      "2021-09-01 19:21:34.098857: I tensorflow/stream_executor/cuda/cudart_stub.cc:29] Ignore above cudart dlerror if you do not have a GPU set up on your machine.\n"
     ]
    }
   ],
   "metadata": {}
  },
  {
   "cell_type": "code",
   "execution_count": 2,
   "source": [
    "# Builder\n",
    "dat = 'trips_simpler.csv'\n",
    "bin_ = '40T'\n",
    "company = [2,3,4,5]\n",
    "location = [mk for mk in range(9)]\n",
    "frame_in = binToWindows(bin_)\n",
    "frame_out = 2\n",
    "ratio = 0.8"
   ],
   "outputs": [],
   "metadata": {}
  },
  {
   "cell_type": "code",
   "execution_count": 3,
   "source": [
    "# Distribute data to clients\n",
    "db = Distributor(dat, company, location)\n",
    "#db.divByCompany()\n",
    "#db.divCustom(pairs)\n",
    "db.divBoth()\n",
    "clients = db.extractClients()"
   ],
   "outputs": [
    {
     "output_type": "stream",
     "name": "stdout",
     "text": [
      "Sum of all datalist: 37635 | Sum of all tested: 7371\n",
      "Sum of all datalist: 95478 | Sum of all tested: 19133\n",
      "Sum of all datalist: 11472 | Sum of all tested: 2221\n",
      "Sum of all datalist: 2884 | Sum of all tested: 621\n",
      "Sum of all datalist: 177931 | Sum of all tested: 34648\n",
      "Sum of all datalist: 40698 | Sum of all tested: 8279\n",
      "Sum of all datalist: 87549 | Sum of all tested: 17628\n",
      "Sum of all datalist: 55038 | Sum of all tested: 11196\n",
      "Sum of all datalist: 87629 | Sum of all tested: 17595\n",
      "Sum of all datalist: 1924246 | Sum of all tested: 408560\n",
      "Sum of all datalist: 1624300 | Sum of all tested: 356971\n",
      "Sum of all datalist: 266460 | Sum of all tested: 56301\n",
      "Sum of all datalist: 167966 | Sum of all tested: 35501\n",
      "Sum of all datalist: 4527911 | Sum of all tested: 983132\n",
      "Sum of all datalist: 596344 | Sum of all tested: 125750\n",
      "Sum of all datalist: 1491888 | Sum of all tested: 320180\n",
      "Sum of all datalist: 825060 | Sum of all tested: 171677\n",
      "Sum of all datalist: 1308563 | Sum of all tested: 280341\n",
      "Sum of all datalist: 19964 | Sum of all tested: 4183\n",
      "Sum of all datalist: 119773 | Sum of all tested: 25816\n",
      "Sum of all datalist: 4499 | Sum of all tested: 872\n",
      "Sum of all datalist: 1043 | Sum of all tested: 205\n",
      "Sum of all datalist: 643211 | Sum of all tested: 132788\n",
      "Sum of all datalist: 2161 | Sum of all tested: 447\n",
      "Sum of all datalist: 35818 | Sum of all tested: 8060\n",
      "Sum of all datalist: 4804 | Sum of all tested: 1029\n",
      "Sum of all datalist: 20452 | Sum of all tested: 4521\n",
      "Sum of all datalist: 371785 | Sum of all tested: 78043\n",
      "Sum of all datalist: 803616 | Sum of all tested: 174169\n",
      "Sum of all datalist: 122025 | Sum of all tested: 23549\n",
      "Sum of all datalist: 39510 | Sum of all tested: 8002\n",
      "Sum of all datalist: 1451888 | Sum of all tested: 309545\n",
      "Sum of all datalist: 183101 | Sum of all tested: 37890\n",
      "Sum of all datalist: 561332 | Sum of all tested: 120927\n",
      "Sum of all datalist: 220485 | Sum of all tested: 46128\n",
      "Sum of all datalist: 447323 | Sum of all tested: 95187\n"
     ]
    }
   ],
   "metadata": {}
  },
  {
   "cell_type": "code",
   "execution_count": 4,
   "source": [
    "# Server simulation\n",
    "epochs = 20\n",
    "iterations = 3\n",
    "serv = Server(clients, frame_in, frame_out, 'CNNLSTM', epochs_=int(epochs/iterations))\n",
    "serv.iterate(iterations, mode='amt')"
   ],
   "outputs": [
    {
     "output_type": "stream",
     "name": "stderr",
     "text": [
      "2021-09-01 19:27:29.019623: W tensorflow/stream_executor/platform/default/dso_loader.cc:64] Could not load dynamic library 'libcuda.so.1'; dlerror: libcuda.so.1: cannot open shared object file: No such file or directory\n",
      "2021-09-01 19:27:29.019649: W tensorflow/stream_executor/cuda/cuda_driver.cc:326] failed call to cuInit: UNKNOWN ERROR (303)\n",
      "2021-09-01 19:27:29.019665: I tensorflow/stream_executor/cuda/cuda_diagnostics.cc:156] kernel driver does not appear to be running on this host (cl): /proc/driver/nvidia/version does not exist\n",
      "2021-09-01 19:27:29.019979: I tensorflow/core/platform/cpu_feature_guard.cc:142] This TensorFlow binary is optimized with oneAPI Deep Neural Network Library (oneDNN) to use the following CPU instructions in performance-critical operations:  AVX2\n",
      "To enable them in other operations, rebuild TensorFlow with the appropriate compiler flags.\n"
     ]
    },
    {
     "output_type": "stream",
     "name": "stdout",
     "text": [
      "Iteration 1 of 3 | "
     ]
    },
    {
     "output_type": "stream",
     "name": "stderr",
     "text": [
      "2021-09-01 19:27:37.278003: I tensorflow/compiler/mlir/mlir_graph_optimization_pass.cc:176] None of the MLIR Optimization Passes are enabled (registered 2)\n",
      "2021-09-01 19:27:37.279425: I tensorflow/core/platform/profile_utils/cpu_utils.cc:114] CPU Frequency: 2592000000 Hz\n"
     ]
    },
    {
     "output_type": "stream",
     "name": "stdout",
     "text": [
      "Cli# 2/0: 0.10 sec; Cli# 2/1: 0.09 sec; Cli# 2/2: 0.33 sec; Cli# 2/3: 0.06 sec; Cli# 2/4: 0.10 sec; Cli# 2/5: 0.21 sec; Cli# 2/6: 0.05 sec; Cli# 2/7: 0.06 sec; Cli# 2/8: 0.11 sec; Cli# 3/0: 12.68 sec; Cli# 3/1: 10.13 sec; Cli# 3/2: 0.21 sec; Cli# 3/3: 0.06 sec; Cli# 3/4: 17.89 sec; Cli# 3/5: 5.50 sec; Cli# 3/6: 11.25 sec; Cli# 3/7: 7.76 sec; Cli# 3/8: 6.58 sec; Cli# 4/0: 0.05 sec; Cli# 4/1: 0.37 sec; Cli# 4/2: 0.09 sec; Cli# 4/3: 0.09 sec; Cli# 4/4: 5.39 sec; Cli# 4/5: 0.11 sec; Cli# 4/6: 0.36 sec; Cli# 4/7: 0.04 sec; Cli# 4/8: 0.04 sec; Cli# 5/0: 3.06 sec; Cli# 5/1: 5.70 sec; Cli# 5/2: 0.06 sec; Cli# 5/3: 0.22 sec; Cli# 5/4: 7.66 sec; Cli# 5/5: 0.03 sec; Cli# 5/6: 2.90 sec; Cli# 5/7: 0.16 sec; Cli# 5/8: 2.15 sec;  | Glob: 7.87s, Train: 101.66s, Aggr: 1.72s.\n",
      "Iteration 2 of 3 | Cli# 2/0: 0.06 sec; Cli# 2/1: 0.30 sec; Cli# 2/2: 0.03 sec; Cli# 2/3: 0.05 sec; Cli# 2/4: 0.06 sec; Cli# 2/5: 0.05 sec; Cli# 2/6: 0.07 sec; Cli# 2/7: 0.19 sec; Cli# 2/8: 0.04 sec; Cli# 3/0: 9.94 sec; Cli# 3/1: 11.29 sec; Cli# 3/2: 0.42 sec; Cli# 3/3: 0.09 sec; Cli# 3/4: 15.07 sec; Cli# 3/5: 3.89 sec; Cli# 3/6: 9.29 sec; Cli# 3/7: 6.91 sec; Cli# 3/8: 6.65 sec; Cli# 4/0: 0.05 sec; Cli# 4/1: 0.05 sec; Cli# 4/2: 0.28 sec; Cli# 4/3: 0.05 sec; Cli# 4/4: 3.96 sec; Cli# 4/5: 0.03 sec; Cli# 4/6: 0.03 sec; Cli# 4/7: 0.03 sec; Cli# 4/8: 0.23 sec; Cli# 5/0: 1.46 sec; Cli# 5/1: 3.28 sec; Cli# 5/2: 0.03 sec; Cli# 5/3: 0.03 sec; Cli# 5/4: 5.83 sec; Cli# 5/5: 0.03 sec; Cli# 5/6: 2.43 sec; Cli# 5/7: 0.03 sec; Cli# 5/8: 1.53 sec;  | Glob: 4.67s, Train: 83.77s, Aggr: 1.21s.\n",
      "Iteration 3 of 3 | Cli# 2/0: 0.25 sec; Cli# 2/1: 0.03 sec; Cli# 2/2: 0.03 sec; Cli# 2/3: 0.03 sec; Cli# 2/4: 0.03 sec; Cli# 2/5: 0.03 sec; Cli# 2/6: 0.03 sec; Cli# 2/7: 0.24 sec; Cli# 2/8: 0.04 sec; Cli# 3/0: 6.36 sec; Cli# 3/1: 5.29 sec; Cli# 3/2: 0.03 sec; Cli# 3/3: 0.03 sec; Cli# 3/4: 8.78 sec; Cli# 3/5: 2.98 sec; Cli# 3/6: 5.36 sec; Cli# 3/7: 3.76 sec; Cli# 3/8: 4.93 sec; Cli# 4/0: 0.03 sec; Cli# 4/1: 0.29 sec; Cli# 4/2: 0.04 sec; Cli# 4/3: 0.03 sec; Cli# 4/4: 3.35 sec; Cli# 4/5: 0.03 sec; Cli# 4/6: 0.03 sec; Cli# 4/7: 0.03 sec; Cli# 4/8: 0.03 sec; Cli# 5/0: 1.59 sec; Cli# 5/1: 3.10 sec; Cli# 5/2: 0.03 sec; Cli# 5/3: 0.03 sec; Cli# 5/4: 5.10 sec; Cli# 5/5: 0.03 sec; Cli# 5/6: 2.61 sec; Cli# 5/7: 0.03 sec; Cli# 5/8: 1.51 sec;  | Glob: 3.52s, Train: 56.15s, Aggr: 1.28s.\n"
     ]
    },
    {
     "output_type": "execute_result",
     "data": {
      "text/plain": [
       "<T6FLFunctions.Server at 0x7f3b3f1e22b0>"
      ]
     },
     "metadata": {},
     "execution_count": 4
    }
   ],
   "metadata": {}
  },
  {
   "cell_type": "code",
   "execution_count": 5,
   "source": [
    "pairs = ['2/3','2/4','3/3','3/4','4/3','4/4','5/3','5/4']\n",
    "\n",
    "for c in serv.clients:\n",
    "    if c.id_ in pairs:\n",
    "        c.predict(frame_in,frame_out, verbose_=True)"
   ],
   "outputs": [
    {
     "output_type": "stream",
     "name": "stdout",
     "text": [
      "Total demand  = [621] || Average demand  = 2.97 || RMSE  = [53.17]% || MAPE  = 0.8760802477307447%\n",
      "Total demand  = [34648] || Average demand  = 165.77 || RMSE  = [11.53]% || MAPE  = 0.15240151851923178%\n",
      "Total demand  = [35501] || Average demand  = 169.86 || RMSE  = [12.69]% || MAPE  = 0.19131375118127947%\n",
      "Total demand  = [983132] || Average demand  = 4703.98 || RMSE  = [9.79]% || MAPE  = 0.14370494956676572%\n",
      "Total demand  = [205] || Average demand  = 0.98 || RMSE  = [93.7]% || MAPE  = 1.520289313532134%\n",
      "Total demand  = [132788] || Average demand  = 635.34 || RMSE  = [9.24]% || MAPE  = 0.145217558128221%\n",
      "Total demand  = [8002] || Average demand  = 38.28 || RMSE  = [16.01]% || MAPE  = 0.2209983092552948%\n",
      "Total demand  = [309545] || Average demand  = 1481.07 || RMSE  = [8.83]% || MAPE  = 0.13074532669905486%\n"
     ]
    }
   ],
   "metadata": {}
  },
  {
   "cell_type": "code",
   "execution_count": null,
   "source": [],
   "outputs": [],
   "metadata": {}
  }
 ],
 "metadata": {
  "orig_nbformat": 4,
  "language_info": {
   "name": "python",
   "version": "3.8.10",
   "mimetype": "text/x-python",
   "codemirror_mode": {
    "name": "ipython",
    "version": 3
   },
   "pygments_lexer": "ipython3",
   "nbconvert_exporter": "python",
   "file_extension": ".py"
  },
  "kernelspec": {
   "name": "python3",
   "display_name": "Python 3.8.10 64-bit"
  },
  "interpreter": {
   "hash": "916dbcbb3f70747c44a77c7bcd40155683ae19c65e1c03b4aa3499c5328201f1"
  }
 },
 "nbformat": 4,
 "nbformat_minor": 2
}