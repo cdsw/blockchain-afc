{
 "cells": [
  {
   "cell_type": "code",
   "execution_count": 2,
   "source": [
    "import pandas as pd\n",
    "t = pd.read_csv('trips.csv')\n"
   ],
   "outputs": [],
   "metadata": {}
  },
  {
   "cell_type": "code",
   "execution_count": 3,
   "source": [
    "# Number of occurrences\n",
    "print('Per-company count')\n",
    "print(t['hvfhs_license_num'].value_counts())\n",
    "\n",
    "print('Per-area count: Pickup')\n",
    "print(t['PULocationID'].value_counts())\n",
    "\n",
    "#print('Per-area count: Dropoff')\n",
    "#print(t['DOLocationID'].value_counts())\n"
   ],
   "outputs": [
    {
     "output_type": "stream",
     "name": "stdout",
     "text": [
      "Per-company count\n",
      "3    13179153\n",
      "5     4331647\n",
      "4      885886\n",
      "2      617267\n",
      "Name: hvfhs_license_num, dtype: int64\n",
      "Per-area count: Pickup\n",
      "4    7053615\n",
      "1    2724548\n",
      "0    2434646\n",
      "6    2245971\n",
      "8    1923264\n",
      "7    1144664\n",
      "5     850074\n",
      "2     418747\n",
      "3     218424\n",
      "Name: PULocationID, dtype: int64\n"
     ]
    }
   ],
   "metadata": {}
  },
  {
   "cell_type": "code",
   "execution_count": 23,
   "source": [
    "# Select only companies #2, 4, 5; IDs 0, 6, 8 to reduce computation load\n",
    "s = t[t.hvfhs_license_num.isin([2,4,5])]\n",
    "s = s[s.PULocationID.isin([0,6,8])]"
   ],
   "outputs": [],
   "metadata": {}
  },
  {
   "cell_type": "code",
   "execution_count": 24,
   "source": [
    "# Number of company-pickups\n",
    "s.groupby(['PULocationID','hvfhs_license_num']).size()"
   ],
   "outputs": [
    {
     "output_type": "execute_result",
     "data": {
      "text/plain": [
       "PULocationID  hvfhs_license_num\n",
       "0             2                     38937\n",
       "              4                     20614\n",
       "              5                    383778\n",
       "6             2                     90343\n",
       "              4                     36828\n",
       "              5                    577771\n",
       "8             2                     90436\n",
       "              4                     21023\n",
       "              5                    460755\n",
       "dtype: int64"
      ]
     },
     "metadata": {},
     "execution_count": 24
    }
   ],
   "metadata": {}
  },
  {
   "cell_type": "code",
   "execution_count": 26,
   "source": [
    "# Cleaning: deleting unnecessary trip number column\n",
    "s.reset_index()\n",
    "s = s[['hvfhs_license_num','pickup_datetime','dropoff_datetime','PULocationID','DOLocationID']]"
   ],
   "outputs": [],
   "metadata": {}
  },
  {
   "cell_type": "code",
   "execution_count": 27,
   "source": [
    "# Save into a simplified trip record\n",
    "s.to_csv('trips_simpler.csv')"
   ],
   "outputs": [],
   "metadata": {}
  },
  {
   "cell_type": "code",
   "execution_count": null,
   "source": [],
   "outputs": [],
   "metadata": {}
  }
 ],
 "metadata": {
  "orig_nbformat": 4,
  "language_info": {
   "name": "python",
   "version": "3.8.10",
   "mimetype": "text/x-python",
   "codemirror_mode": {
    "name": "ipython",
    "version": 3
   },
   "pygments_lexer": "ipython3",
   "nbconvert_exporter": "python",
   "file_extension": ".py"
  },
  "kernelspec": {
   "name": "python3",
   "display_name": "Python 3.8.10 64-bit"
  },
  "interpreter": {
   "hash": "916dbcbb3f70747c44a77c7bcd40155683ae19c65e1c03b4aa3499c5328201f1"
  }
 },
 "nbformat": 4,
 "nbformat_minor": 2
}