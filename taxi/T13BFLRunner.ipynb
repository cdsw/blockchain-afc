{
 "cells": [
  {
   "cell_type": "code",
   "execution_count": 3,
   "source": [
    "from T12BFL import *"
   ],
   "outputs": [],
   "metadata": {}
  },
  {
   "cell_type": "code",
   "execution_count": 4,
   "source": [
    "app = Flask(__name__)\n",
    "BFLView.register(app)\n",
    "app.run('0.0.0.0',5001)"
   ],
   "outputs": [
    {
     "output_type": "stream",
     "name": "stdout",
     "text": [
      " * Serving Flask app '__main__' (lazy loading)\n",
      " * Environment: production\n",
      "\u001b[31m   WARNING: This is a development server. Do not use it in a production deployment.\u001b[0m\n",
      "\u001b[2m   Use a production WSGI server instead.\u001b[0m\n",
      " * Debug mode: off\n"
     ]
    },
    {
     "output_type": "stream",
     "name": "stderr",
     "text": [
      " * Running on all addresses.\n",
      "   WARNING: This is a development server. Do not use it in a production deployment.\n",
      " * Running on http://10.0.2.15:5001/ (Press CTRL+C to quit)\n",
      "127.0.0.1 - - [07/Sep/2021 21:24:27] \"GET /bfl/transactions/new HTTP/1.1\" 405 -\n",
      "127.0.0.1 - - [07/Sep/2021 21:25:05] \"GET /bfl/transactions/new HTTP/1.1\" 405 -\n",
      "127.0.0.1 - - [07/Sep/2021 21:25:07] \"GET /bfl/transactions/new HTTP/1.1\" 405 -\n",
      "127.0.0.1 - - [07/Sep/2021 21:25:07] \"GET /bfl/transactions/new HTTP/1.1\" 405 -\n",
      "127.0.0.1 - - [07/Sep/2021 21:25:08] \"GET /bfl/transactions/new HTTP/1.1\" 405 -\n",
      "[2021-09-07 21:25:12,788] ERROR in app: Exception on /bfl/transactions/new [POST]\n",
      "Traceback (most recent call last):\n",
      "  File \"/home/cl/anaconda3/lib/python3.8/site-packages/flask/app.py\", line 2070, in wsgi_app\n",
      "    response = self.full_dispatch_request()\n",
      "  File \"/home/cl/anaconda3/lib/python3.8/site-packages/flask/app.py\", line 1515, in full_dispatch_request\n",
      "    rv = self.handle_user_exception(e)\n",
      "  File \"/home/cl/anaconda3/lib/python3.8/site-packages/flask/app.py\", line 1513, in full_dispatch_request\n",
      "    rv = self.dispatch_request()\n",
      "  File \"/home/cl/anaconda3/lib/python3.8/site-packages/flask/app.py\", line 1499, in dispatch_request\n",
      "    return self.ensure_sync(self.view_functions[rule.endpoint])(**req.view_args)\n",
      "  File \"/home/cl/anaconda3/lib/python3.8/site-packages/flask_classful.py\", line 268, in proxy\n",
      "    response = view(**request.view_args)\n",
      "  File \"/home/cl/anaconda3/lib/python3.8/site-packages/flask_classful.py\", line 239, in inner\n",
      "    return fn(*args, **kwargs)\n",
      "  File \"/home/cl/Documents/n-bafc/blockchain-afc/taxi/T12BFL.py\", line 150, in new_transaction\n",
      "    index = self.blockchain.new_transaction(values['sender'], values['recipient'], values['amount'])\n",
      "  File \"/home/cl/Documents/n-bafc/blockchain-afc/taxi/T12BFL.py\", line 51, in new_transaction\n",
      "    return self.last_block['index'] + 1\n",
      "  File \"/home/cl/Documents/n-bafc/blockchain-afc/taxi/T12BFL.py\", line 67, in last_block\n",
      "    return self.chain[-1]\n",
      "IndexError: list index out of range\n",
      "127.0.0.1 - - [07/Sep/2021 21:25:12] \"POST /bfl/transactions/new HTTP/1.1\" 500 -\n"
     ]
    }
   ],
   "metadata": {}
  }
 ],
 "metadata": {
  "orig_nbformat": 4,
  "language_info": {
   "name": "python",
   "version": "3.8.8",
   "mimetype": "text/x-python",
   "codemirror_mode": {
    "name": "ipython",
    "version": 3
   },
   "pygments_lexer": "ipython3",
   "nbconvert_exporter": "python",
   "file_extension": ".py"
  },
  "kernelspec": {
   "name": "python3",
   "display_name": "Python 3.8.8 64-bit ('base': conda)"
  },
  "interpreter": {
   "hash": "1869290e7ffbda500f2058d1fc448c155d136953b2e2069a8572d844cde6d08c"
  }
 },
 "nbformat": 4,
 "nbformat_minor": 2
}